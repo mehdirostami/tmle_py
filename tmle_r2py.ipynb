{
 "cells": [
  {
   "cell_type": "markdown",
   "metadata": {},
   "source": [
    "In this page we simulate data from a causal model in observational setting and examine the effect of omitted variables which stochastically predict the treatment assignment.\n",
    "Then we apply the tmle method for estimating the causal parameter.\n",
    "We use R codes in python to run this procedure."
   ]
  },
  {
   "cell_type": "markdown",
   "metadata": {},
   "source": [
    "First import the necessary libraries:"
   ]
  },
  {
   "cell_type": "code",
   "execution_count": 1,
   "metadata": {
    "collapsed": false
   },
   "outputs": [],
   "source": [
    "import numpy as np \n",
    "import pandas as pd \n",
    "import copy\n",
    "import mlp\n",
    "\n",
    "from sklearn.linear_model import LinearRegression, LogisticRegression\n",
    "from glmnet import LogitNet, ElasticNet\n",
    "import torch\n",
    "import torch.nn as nn\n",
    "import torch.nn.functional as F\n",
    "from torch.autograd import Variable\n",
    "\n",
    "import utils\n",
    "from utils import simulate_x, nonlinear, simulate_params\n",
    "from simulate_data import SimulateNoIntraction\n",
    "from sklearn.preprocessing import StandardScaler\n",
    "\n",
    "import matplotlib.pyplot as plt"
   ]
  },
  {
   "cell_type": "markdown",
   "metadata": {},
   "source": [
    "Fix parameters for simulating data from the causal model:"
   ]
  },
  {
   "cell_type": "code",
   "execution_count": 2,
   "metadata": {
    "collapsed": false
   },
   "outputs": [],
   "source": [
    "n, p_c, p_iv, p_y, p_n = 200, 5, 5, 5, 5\n",
    "\n",
    "True_TE = -1"
   ]
  },
  {
   "cell_type": "code",
   "execution_count": 3,
   "metadata": {
    "collapsed": false
   },
   "outputs": [],
   "source": [
    "y, A, x = SimulateNoIntraction(True_TE, n, p_c, p_iv, p_y, p_n, rho=.5, corr=\"AR(1)\",\n",
    "                                 nonlinearity_portion=.10, r1=.1, r2=1., sigma=1.)"
   ]
  },
  {
   "cell_type": "markdown",
   "metadata": {
    "collapsed": true
   },
   "source": [
    "import packages needed to run r code in python:"
   ]
  },
  {
   "cell_type": "code",
   "execution_count": 5,
   "metadata": {
    "collapsed": false
   },
   "outputs": [
    {
     "name": "stdout",
     "output_type": "stream",
     "text": [
      "CPU times: user 506 ms, sys: 670 ms, total: 1.18 s\n",
      "Wall time: 271 ms\n"
     ]
    }
   ],
   "source": [
    "%%time\n",
    "from rpy2.robjects.packages import importr\n",
    "import rpy2.robjects as ro\n",
    "import rpy2.robjects.numpy2ri\n",
    "rpy2.robjects.numpy2ri.activate()\n",
    "\n",
    "nr,nc = x.shape\n",
    "x_r = ro.r.matrix(x, nrow=nr, ncol=nc)"
   ]
  },
  {
   "cell_type": "markdown",
   "metadata": {},
   "source": [
    "transfer data to R:"
   ]
  },
  {
   "cell_type": "code",
   "execution_count": 6,
   "metadata": {
    "collapsed": false
   },
   "outputs": [],
   "source": [
    "_ = importr(\"tmle\")\n",
    "_ = ro.r('library(\"tmle\")')\n",
    "\n",
    "_ = ro.r('A = c{}'.format(tuple(A.flatten())))\n",
    "\n",
    "_ = ro.r('W = c{}'.format(tuple(x_r)))\n",
    "_ = ro.r(\"W = matrix(W, nrow={}, ncol={})\".format(nr, nc))\n",
    "\n",
    "_ = ro.r('y = c{}'.format(tuple(y.flatten())))"
   ]
  },
  {
   "cell_type": "markdown",
   "metadata": {},
   "source": [
    "Run tmle, with defaults arguments:"
   ]
  },
  {
   "cell_type": "code",
   "execution_count": 7,
   "metadata": {
    "collapsed": false
   },
   "outputs": [
    {
     "name": "stdout",
     "output_type": "stream",
     "text": [
      "CPU times: user 4.5 s, sys: 0 ns, total: 4.5 s\n",
      "Wall time: 2.82 s\n"
     ]
    }
   ],
   "source": [
    "%%time\n",
    "tmle_results = ro.r('results <- tmle(Y=y,A=A,W=W)')"
   ]
  },
  {
   "cell_type": "code",
   "execution_count": 8,
   "metadata": {
    "collapsed": false
   },
   "outputs": [],
   "source": [
    "tmle_ests = ro.r('results$estimates')"
   ]
  },
  {
   "cell_type": "markdown",
   "metadata": {
    "collapsed": true
   },
   "source": [
    "Extract the estimate of the causal parameters, its standard error, confidence interval and the p-value:"
   ]
  },
  {
   "cell_type": "code",
   "execution_count": 9,
   "metadata": {
    "collapsed": false
   },
   "outputs": [],
   "source": [
    "TE_tmle = tmle_ests[1][0]\n",
    "sd_TE_tmle = tmle_ests[1][1]\n",
    "CI_TE_tmle = tmle_ests[1][2]\n",
    "pvalue_TE_tmle = tmle_ests[1][3]"
   ]
  },
  {
   "cell_type": "code",
   "execution_count": 10,
   "metadata": {
    "collapsed": false
   },
   "outputs": [
    {
     "name": "stdout",
     "output_type": "stream",
     "text": [
      "tmle estimate of TE\n",
      "-0.9174518387598916\n",
      "\n",
      "stderr of tmle estimate of TE\n",
      "0.1605504079533478\n",
      "\n",
      "95% confidence interval of tmle estimate of TE\n",
      "[1] -1.232131 -0.602773\n",
      "\n",
      "p-value of tmle estimate of TE\n",
      "[1] 1.100813e-08\n",
      "\n"
     ]
    }
   ],
   "source": [
    "print(\"tmle estimate of TE\")\n",
    "print(TE_tmle[0])\n",
    "print()\n",
    "print(\"stderr of tmle estimate of TE\")\n",
    "print(np.sqrt(sd_TE_tmle)[0])\n",
    "print()\n",
    "print(\"95% confidence interval of tmle estimate of TE\")\n",
    "print(CI_TE_tmle)\n",
    "print(\"p-value of tmle estimate of TE\")\n",
    "print(pvalue_TE_tmle)"
   ]
  },
  {
   "cell_type": "code",
   "execution_count": null,
   "metadata": {
    "collapsed": true
   },
   "outputs": [],
   "source": []
  }
 ],
 "metadata": {
  "kernelspec": {
   "display_name": "Python 2",
   "language": "python",
   "name": "python2"
  },
  "language_info": {
   "codemirror_mode": {
    "name": "ipython",
    "version": 3
   },
   "file_extension": ".py",
   "mimetype": "text/x-python",
   "name": "python",
   "nbconvert_exporter": "python",
   "pygments_lexer": "ipython3",
   "version": "3.6.3"
  }
 },
 "nbformat": 4,
 "nbformat_minor": 2
}
